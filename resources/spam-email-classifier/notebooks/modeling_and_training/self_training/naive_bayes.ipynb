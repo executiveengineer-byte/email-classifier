{
 "cells": [
  {
   "cell_type": "markdown",
   "id": "f6727168-afb4-4b90-855e-b80ebddbb148",
   "metadata": {},
   "source": [
    "# Modeling & training"
   ]
  },
  {
   "cell_type": "markdown",
   "id": "3a799711-98b3-4185-8b46-84cf5113ea22",
   "metadata": {},
   "source": [
    "## Naive Bayes"
   ]
  },
  {
   "cell_type": "markdown",
   "id": "57602a7a-8d12-47fd-a7bf-e50ba0d7e867",
   "metadata": {},
   "source": [
    "## Outline\n",
    "- [Necessary packages](#necessary_packages)\n",
    "- [Data Loading](#data_loading)\n",
    "- [Modeling and training](#modeling_and_training)\n",
    "- [Conclusion](#conclusion)\n",
    "- [Save the best model](#save_the_best_model)"
   ]
  },
  {
   "cell_type": "markdown",
   "id": "3349ba58-cfb9-4532-bf97-dc5ec08093a8",
   "metadata": {},
   "source": [
    "<div id=\"necessary_packages\" >\n",
    "    <h3>Necessary packages</h3>\n",
    "</div>"
   ]
  },
  {
   "cell_type": "code",
   "execution_count": 1,
   "id": "c710c515-2171-4e5c-a21f-848a89cd2135",
   "metadata": {},
   "outputs": [],
   "source": [
    "import pandas as pd\n",
    "import numpy as np\n",
    "import os\n",
    "from sklearn.preprocessing import FunctionTransformer\n",
    "from sklearn.feature_extraction.text import CountVectorizer,TfidfVectorizer\n",
    "from sklearn.naive_bayes import MultinomialNB,ComplementNB,GaussianNB,BernoulliNB,CategoricalNB\n",
    "from sklearn.decomposition import TruncatedSVD\n",
    "from sklearn.model_selection import cross_validate,KFold\n",
    "from sklearn.metrics import accuracy_score,f1_score,precision_score,recall_score,make_scorer\n",
    "from sklearn.compose import ColumnTransformer\n",
    "from imblearn.pipeline import Pipeline\n",
    "from imblearn.over_sampling import SMOTE\n",
    "from joblib import dump"
   ]
  },
  {
   "cell_type": "markdown",
   "id": "411849a7-52fa-49dd-88c5-15903101af00",
   "metadata": {},
   "source": [
    "<div id=\"data_loading\" >\n",
    "    <h3>Data loading</h3>\n",
    "</div>"
   ]
  },
  {
   "cell_type": "code",
   "execution_count": 2,
   "id": "8ea2de64-946e-4512-8811-f9772ad9c687",
   "metadata": {},
   "outputs": [],
   "source": [
    "path = os.path.join(\"..\",\"..\",\"data\",\"clean_df.csv\")\n",
    "df = pd.read_csv(path, encoding=\"iso-8859-1\")\n",
    "df.fillna(\"\",inplace=True)"
   ]
  },
  {
   "cell_type": "code",
   "execution_count": 3,
   "id": "ea6b67a9-579f-4f01-8b68-a45f2d5d965a",
   "metadata": {},
   "outputs": [
    {
     "data": {
      "text/plain": [
       "Index(['class', 'content', 'urls_count', 'digits_count',\n",
       "       'contains_currency_symbols', 'length'],\n",
       "      dtype='object')"
      ]
     },
     "execution_count": 3,
     "metadata": {},
     "output_type": "execute_result"
    }
   ],
   "source": [
    "df.columns"
   ]
  },
  {
   "cell_type": "markdown",
   "id": "182a5cee-c020-4633-a62d-7959834aee27",
   "metadata": {},
   "source": [
    "<div>\n",
    "    <h3>Modeling & training</h3>\n",
    "</div>"
   ]
  },
  {
   "cell_type": "code",
   "execution_count": 4,
   "id": "c825588f-e9d7-46de-a991-55e71fcfd20c",
   "metadata": {},
   "outputs": [],
   "source": [
    "X = df[\"content\"]\n",
    "y = df[\"class\"]\n",
    "X = X[y != -1]\n",
    "y = y[y != -1]"
   ]
  },
  {
   "cell_type": "code",
   "execution_count": 5,
   "id": "e4a58eb1-60c8-4b43-9844-a679d6654ff6",
   "metadata": {},
   "outputs": [],
   "source": [
    "scoring = {\n",
    "    \"accuracy\":make_scorer(accuracy_score),\n",
    "    \"f1_score\":make_scorer(f1_score),\n",
    "    \"precision\":make_scorer(precision_score),\n",
    "    \"recall\":make_scorer(recall_score)\n",
    "}"
   ]
  },
  {
   "cell_type": "code",
   "execution_count": 6,
   "id": "c38dcd7f-1999-4e8a-8708-a1dca5942ef6",
   "metadata": {},
   "outputs": [],
   "source": [
    "def evaluate_cv(models,metrics,cv,X,y):\n",
    "\n",
    "    df = []\n",
    "    index = models.keys()\n",
    "    columns = [\"fit_time\",\"score_time\"]\n",
    "    columns = columns + list(metrics.keys())\n",
    "    \n",
    "    for model in models.values():\n",
    "        results = cross_validate(model, X, y, cv=cv,scoring=metrics)\n",
    "        scores = []\n",
    "        for score in results.values():\n",
    "            scores.append(score.mean())\n",
    "        df.append(scores)\n",
    "\n",
    "    df = pd.DataFrame(data=df,index=index,columns=columns)\n",
    "    return df"
   ]
  },
  {
   "cell_type": "code",
   "execution_count": 7,
   "id": "029399db-779f-438d-b927-3a17a37e7456",
   "metadata": {},
   "outputs": [],
   "source": [
    "models = {}"
   ]
  },
  {
   "cell_type": "code",
   "execution_count": 8,
   "id": "fc2aeb91-9f57-4ba0-b01b-ce43ac660d19",
   "metadata": {},
   "outputs": [],
   "source": [
    "models[\"mnb_cv\"] = Pipeline(steps=[\n",
    "    (\"cv\", CountVectorizer(binary=True)),\n",
    "    (\"estimator\", MultinomialNB())\n",
    "])"
   ]
  },
  {
   "cell_type": "code",
   "execution_count": 9,
   "id": "44e8f6a5-ece2-440f-b77c-fcc58314103d",
   "metadata": {},
   "outputs": [],
   "source": [
    "models[\"mnb_tfidf\"] = Pipeline(steps=[\n",
    "    (\"cv\", TfidfVectorizer(binary=True)),\n",
    "    (\"estimator\", MultinomialNB())\n",
    "])"
   ]
  },
  {
   "cell_type": "code",
   "execution_count": 10,
   "id": "dec021d7-bb44-4aae-9623-5d0be35316da",
   "metadata": {},
   "outputs": [],
   "source": [
    "models[\"cnb_cv\"] = Pipeline(steps=[\n",
    "    (\"cv\", CountVectorizer()),\n",
    "    (\"estimator\", ComplementNB())\n",
    "])"
   ]
  },
  {
   "cell_type": "code",
   "execution_count": 11,
   "id": "91af002b-71aa-4923-bd62-d185eb89eaf4",
   "metadata": {},
   "outputs": [],
   "source": [
    "models[\"cnb_tfidf\"] = Pipeline(steps=[\n",
    "    (\"cv\", TfidfVectorizer()),\n",
    "    (\"estimator\", ComplementNB())\n",
    "])"
   ]
  },
  {
   "cell_type": "code",
   "execution_count": 12,
   "id": "edeb6e6b-cd47-4849-b36c-dcf9ed590d1a",
   "metadata": {},
   "outputs": [],
   "source": [
    "models[\"bnb_cv\"] = Pipeline(steps=[\n",
    "    (\"cv\", CountVectorizer(binary=True)),\n",
    "    (\"estimator\", BernoulliNB())\n",
    "])"
   ]
  },
  {
   "cell_type": "code",
   "execution_count": 13,
   "id": "93971a95-23c3-48db-9739-c4020936de9c",
   "metadata": {},
   "outputs": [],
   "source": [
    "models[\"bnb_tfidf\"] = Pipeline(steps=[\n",
    "    (\"cv\", TfidfVectorizer(binary=True)),\n",
    "    (\"estimator\", BernoulliNB())\n",
    "])"
   ]
  },
  {
   "cell_type": "code",
   "execution_count": 14,
   "id": "b39dcf24-9dcb-41fc-a705-3b2295b75874",
   "metadata": {},
   "outputs": [],
   "source": [
    "evaluation_df = evaluate_cv(models,scoring,cv=KFold(shuffle=True),X=X,y=y)"
   ]
  },
  {
   "cell_type": "code",
   "execution_count": 15,
   "id": "861b55b7-d565-4f20-b5bf-12bd658c5260",
   "metadata": {},
   "outputs": [
    {
     "data": {
      "text/html": [
       "<div>\n",
       "<style scoped>\n",
       "    .dataframe tbody tr th:only-of-type {\n",
       "        vertical-align: middle;\n",
       "    }\n",
       "\n",
       "    .dataframe tbody tr th {\n",
       "        vertical-align: top;\n",
       "    }\n",
       "\n",
       "    .dataframe thead th {\n",
       "        text-align: right;\n",
       "    }\n",
       "</style>\n",
       "<table border=\"1\" class=\"dataframe\">\n",
       "  <thead>\n",
       "    <tr style=\"text-align: right;\">\n",
       "      <th></th>\n",
       "      <th>fit_time</th>\n",
       "      <th>score_time</th>\n",
       "      <th>accuracy</th>\n",
       "      <th>f1_score</th>\n",
       "      <th>precision</th>\n",
       "      <th>recall</th>\n",
       "    </tr>\n",
       "  </thead>\n",
       "  <tbody>\n",
       "    <tr>\n",
       "      <th>mnb_cv</th>\n",
       "      <td>0.101409</td>\n",
       "      <td>0.024082</td>\n",
       "      <td>0.938668</td>\n",
       "      <td>0.880051</td>\n",
       "      <td>0.983730</td>\n",
       "      <td>0.797399</td>\n",
       "    </tr>\n",
       "    <tr>\n",
       "      <th>mnb_tfidf</th>\n",
       "      <td>0.090092</td>\n",
       "      <td>0.025386</td>\n",
       "      <td>0.794284</td>\n",
       "      <td>0.446246</td>\n",
       "      <td>1.000000</td>\n",
       "      <td>0.292400</td>\n",
       "    </tr>\n",
       "    <tr>\n",
       "      <th>cnb_cv</th>\n",
       "      <td>0.086805</td>\n",
       "      <td>0.024823</td>\n",
       "      <td>0.964381</td>\n",
       "      <td>0.936708</td>\n",
       "      <td>0.944505</td>\n",
       "      <td>0.930767</td>\n",
       "    </tr>\n",
       "    <tr>\n",
       "      <th>cnb_tfidf</th>\n",
       "      <td>0.088114</td>\n",
       "      <td>0.025045</td>\n",
       "      <td>0.910974</td>\n",
       "      <td>0.818369</td>\n",
       "      <td>0.975368</td>\n",
       "      <td>0.708708</td>\n",
       "    </tr>\n",
       "    <tr>\n",
       "      <th>bnb_cv</th>\n",
       "      <td>0.086715</td>\n",
       "      <td>0.025592</td>\n",
       "      <td>0.778413</td>\n",
       "      <td>0.392714</td>\n",
       "      <td>0.923687</td>\n",
       "      <td>0.253771</td>\n",
       "    </tr>\n",
       "    <tr>\n",
       "      <th>bnb_tfidf</th>\n",
       "      <td>0.087969</td>\n",
       "      <td>0.025780</td>\n",
       "      <td>0.777418</td>\n",
       "      <td>0.386089</td>\n",
       "      <td>0.933822</td>\n",
       "      <td>0.244209</td>\n",
       "    </tr>\n",
       "  </tbody>\n",
       "</table>\n",
       "</div>"
      ],
      "text/plain": [
       "           fit_time  score_time  accuracy  f1_score  precision    recall\n",
       "mnb_cv     0.101409    0.024082  0.938668  0.880051   0.983730  0.797399\n",
       "mnb_tfidf  0.090092    0.025386  0.794284  0.446246   1.000000  0.292400\n",
       "cnb_cv     0.086805    0.024823  0.964381  0.936708   0.944505  0.930767\n",
       "cnb_tfidf  0.088114    0.025045  0.910974  0.818369   0.975368  0.708708\n",
       "bnb_cv     0.086715    0.025592  0.778413  0.392714   0.923687  0.253771\n",
       "bnb_tfidf  0.087969    0.025780  0.777418  0.386089   0.933822  0.244209"
      ]
     },
     "execution_count": 15,
     "metadata": {},
     "output_type": "execute_result"
    }
   ],
   "source": [
    "evaluation_df"
   ]
  },
  {
   "cell_type": "markdown",
   "id": "e556f9bd-9532-4a19-b7ff-520f003d640b",
   "metadata": {},
   "source": [
    "<div id=\"conclusion\" >\n",
    "    <h3>Conclusion</h3>\n",
    "</div>"
   ]
  },
  {
   "cell_type": "markdown",
   "id": "e80ee15e-8b19-4af4-9454-5103a407cbc9",
   "metadata": {},
   "source": [
    "- Complement naive bayes with Bag of word (count vectorizer) as a feature extraction technique gives the best results in terms of f1 score and even accuracy.\n",
    "- Bernoulli naive bayes perfomes poorly on data points that belongs to the minority class."
   ]
  },
  {
   "cell_type": "markdown",
   "id": "97e0365a-3d55-4089-86f7-91139a1d906d",
   "metadata": {},
   "source": [
    "<div id=\"save_the_best_model\" >\n",
    "    <h3>Save the best model</h3>\n",
    "</div>"
   ]
  },
  {
   "cell_type": "code",
   "execution_count": 16,
   "id": "a3ddd868-3a39-493a-a5dc-c94c00abe0d4",
   "metadata": {},
   "outputs": [
    {
     "data": {
      "text/plain": [
       "['../../models/ssl/nb.joblib']"
      ]
     },
     "execution_count": 16,
     "metadata": {},
     "output_type": "execute_result"
    }
   ],
   "source": [
    "dump(value=models[evaluation_df.index[evaluation_df[\"f1_score\"].argmax()]],filename=os.path.join(\"..\",\"..\",\"models\",\"ssl\",\"nb.joblib\"))"
   ]
  }
 ],
 "metadata": {
  "kernelspec": {
   "display_name": "Python 3 (ipykernel)",
   "language": "python",
   "name": "python3"
  },
  "language_info": {
   "codemirror_mode": {
    "name": "ipython",
    "version": 3
   },
   "file_extension": ".py",
   "mimetype": "text/x-python",
   "name": "python",
   "nbconvert_exporter": "python",
   "pygments_lexer": "ipython3",
   "version": "3.9.18"
  }
 },
 "nbformat": 4,
 "nbformat_minor": 5
}
